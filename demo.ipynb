{
 "cells": [
  {
   "cell_type": "markdown",
   "metadata": {},
   "source": [
    "# Simple `fython` Demo"
   ]
  },
  {
   "cell_type": "markdown",
   "metadata": {},
   "source": [
    "## Fortran\n",
    "\n",
    "The following Fortran module contains data that will be exchange between Python and Fortran."
   ]
  },
  {
   "cell_type": "code",
   "execution_count": 16,
   "metadata": {},
   "outputs": [],
   "source": [
    "# %load data_mod.f90\n",
    "module mod_data\n",
    "\n",
    "! Data exange module\n",
    "! The data declares in this module will be exchanged between Fortran\n",
    "! and Python.\n",
    "\n",
    "    implicit none\n",
    "    ! Keep these values over the whole program run.\n",
    "    save\n",
    "    real::  number1 = 0.0\n",
    "    integer:: number2 = 1\n",
    "\n",
    "end module mod_data\n"
   ]
  },
  {
   "cell_type": "markdown",
   "metadata": {},
   "source": [
    "This Fortran subroutine will be callable from Python."
   ]
  },
  {
   "cell_type": "code",
   "execution_count": 8,
   "metadata": {},
   "outputs": [],
   "source": [
    "# %load increase.f90\n",
    "subroutine increase()\n",
    "\n",
    "    ! Access to the shared data, i.e. the those also accessible from Python.\n",
    "    use mod_data\n",
    "    implicit none\n",
    "    ! Keep these values over the whole program run.\n",
    "    save\n",
    "\n",
    "    ! Increment values at each call.\n",
    "    ! These changes will show up in Python.\n",
    "    number1 = number1 + 10.0\n",
    "    number2 = number2 + 1\n",
    "\n",
    "end subroutine increase\n"
   ]
  },
  {
   "cell_type": "markdown",
   "metadata": {},
   "source": [
    "This is the main Fortran program converted into a subroutine.\n",
    "It takes a Python callable `cback` as argument.\n",
    "It calls `cback` several times:"
   ]
  },
  {
   "cell_type": "code",
   "execution_count": 7,
   "metadata": {},
   "outputs": [],
   "source": [
    "# %load callback.f90\n",
    "\n",
    "! Subroutine that will use a callback function from Python\n",
    "\n",
    "subroutine callback_test(cback)\n",
    "\n",
    "    implicit none\n",
    "\n",
    "    ! Declare the Python function as `external`\n",
    "    external cback\n",
    "\n",
    "    integer k\n",
    "\n",
    "    do k = 1, 3\n",
    "        write(*,*) '### FORTRAN handing over to Python'\n",
    "        ! This hand the control over to Python\n",
    "        call cback()\n",
    "        write(*,*) '### back in FORTRAN'\n",
    "    enddo\n",
    "end\n"
   ]
  },
  {
   "cell_type": "markdown",
   "metadata": {},
   "source": [
    "## Compile\n",
    "\n",
    "We use `f2py`, which is a part of NumPy to compile the above subroutine into a Python extension:"
   ]
  },
  {
   "cell_type": "code",
   "execution_count": 9,
   "metadata": {},
   "outputs": [],
   "source": [
    "# %load Makefile\n",
    "callback:\n",
    "\tf2py --overwrite-signature callback.f90 increase.f90 data_mod.f90 -m fython_test -h fython_test.pyf\n",
    "\tf2py -c fython_test.pyf callback.f90 data_mod.f90 increase.f90\n"
   ]
  },
  {
   "cell_type": "markdown",
   "metadata": {},
   "source": [
    "We do this in to steps. First, we create a an interface file `fython_test.pyf`: "
   ]
  },
  {
   "cell_type": "code",
   "execution_count": 17,
   "metadata": {},
   "outputs": [],
   "source": [
    "# %load fython_test.pyf\n",
    "!    -*- f90 -*-\n",
    "! Note: the context of this file is case sensitive.\n",
    "\n",
    "python module callback_test__user__routines \n",
    "    interface callback_test_user_interface \n",
    "        subroutine cback ! in :fython_test:callback.f90:callback_test:unknown_interface\n",
    "        end subroutine cback\n",
    "    end interface callback_test_user_interface\n",
    "end python module callback_test__user__routines\n",
    "python module fython_test ! in \n",
    "    interface  ! in :fython_test\n",
    "        subroutine callback_test(cback) ! in :fython_test:callback.f90\n",
    "            use callback_test__user__routines\n",
    "            external cback\n",
    "        end subroutine callback_test\n",
    "        subroutine increase ! in :fython_test:increase.f90\n",
    "            use mod_data\n",
    "        end subroutine increase\n",
    "        module mod_data ! in :fython_test:data_mod.f90\n",
    "            real, optional :: number1=0.0\n",
    "            integer, optional :: number2=1\n",
    "        end module mod_data\n",
    "    end interface \n",
    "end python module fython_test\n",
    "\n",
    "! This file was auto-generated with f2py (version:2).\n",
    "! See http://cens.ioc.ee/projects/f2py2e/\n"
   ]
  },
  {
   "cell_type": "markdown",
   "metadata": {},
   "source": [
    "It is possible to edit this file to change the behavior of the extension. Most of the time this is not necessary and the generated `pyf` file is fine as it is.\n",
    "\n",
    "The second line in Makefile compiles an extension, i.e. a `*.pyd` on WIndows or a `*.so` on Linux/Mac."
   ]
  },
  {
   "cell_type": "markdown",
   "metadata": {},
   "source": [
    "## Python\n",
    "\n",
    "Now we can import our extension and use it:"
   ]
  },
  {
   "cell_type": "code",
   "execution_count": 10,
   "metadata": {},
   "outputs": [],
   "source": [
    "# %load run.py\n",
    "\"\"\"Simple Fython demo\n",
    "\"\"\"\n",
    "\n",
    "import fython_test\n",
    "\n",
    "\n",
    "class Func:\n",
    "    # pylint: disable=too-few-public-methods\n",
    "    \"\"\"Class whose instances act like a function, i.e. are callables\n",
    "\n",
    "    https://docs.python.org/3/reference/datamodel.html?highlight=__call__#object.__call__\n",
    "\n",
    "    Called when the instance is “called” as a function; if this method is\n",
    "    defined, `x(arg1, arg2, ...)` is a shorthand for\n",
    "    `x.__call__(arg1, arg2, ...).`\n",
    "\n",
    "\n",
    "    \"\"\"\n",
    "\n",
    "    def __init__(self, val):\n",
    "        self.val = val\n",
    "        self.counter = 0\n",
    "\n",
    "    def __call__(self):\n",
    "        self.counter += 1\n",
    "        print(f'>>> Python: Called {self.counter} time')\n",
    "        print(f'>>> Python: Value {self.val}')\n",
    "        print(f'>>> Python: Number 1 in FORTRAN {fython_test.mod_data.number1}')\n",
    "        print(f'>>> Python: Number 2 in FORTRAN {fython_test.mod_data.number2}')\n",
    "        fython_test.increase()\n",
    "\n",
    "\n",
    "if __name__ == '__main__':\n",
    "    fython_test.callback_test(Func(10))\n"
   ]
  },
  {
   "cell_type": "markdown",
   "metadata": {},
   "source": [
    "Python has the concept of a callable.\n",
    "Often this is a function.\n",
    "But it is also possible to use a class with a special method `__call__`.\n",
    "An instance of such a class will be a callable, that behaves just like a function but allows for a state via attributes of `self`. "
   ]
  },
  {
   "cell_type": "markdown",
   "metadata": {},
   "source": [
    "## Use\n",
    "\n",
    "Now we run our program:"
   ]
  },
  {
   "cell_type": "code",
   "execution_count": 5,
   "metadata": {},
   "outputs": [
    {
     "name": "stdout",
     "output_type": "stream",
     "text": [
      " ### FORTRAN handing over to Python\n",
      ">>> Python: Called 1 time\n",
      ">>> Python: Value 10\n",
      ">>> Python: Number 1 in FORTRAN 0.0\n",
      ">>> Python: Number 2 in FORTRAN 1\n",
      " ### back in FORTRAN\n",
      " ### FORTRAN handing over to Python\n",
      ">>> Python: Called 2 time\n",
      ">>> Python: Value 10\n",
      ">>> Python: Number 1 in FORTRAN 10.0\n",
      ">>> Python: Number 2 in FORTRAN 2\n",
      " ### back in FORTRAN\n",
      " ### FORTRAN handing over to Python\n",
      ">>> Python: Called 3 time\n",
      ">>> Python: Value 10\n",
      ">>> Python: Number 1 in FORTRAN 20.0\n",
      ">>> Python: Number 2 in FORTRAN 3\n",
      " ### back in FORTRAN\n"
     ]
    }
   ],
   "source": [
    "!python run.py"
   ]
  },
  {
   "cell_type": "code",
   "execution_count": null,
   "metadata": {},
   "outputs": [],
   "source": []
  }
 ],
 "metadata": {
  "kernelspec": {
   "display_name": "Python 3",
   "language": "python",
   "name": "python3"
  },
  "language_info": {
   "codemirror_mode": {
    "name": "ipython",
    "version": 3
   },
   "file_extension": ".py",
   "mimetype": "text/x-python",
   "name": "python",
   "nbconvert_exporter": "python",
   "pygments_lexer": "ipython3",
   "version": "3.7.3"
  }
 },
 "nbformat": 4,
 "nbformat_minor": 2
}
